{
 "cells": [
  {
   "cell_type": "markdown",
   "id": "c53ee860",
   "metadata": {},
   "source": [
    "# Exploratory Data Analysis (EDA)\n",
    "## Telecom Customer Churn Dataset\n",
    "\n",
    "This notebook performs comprehensive exploratory data analysis on the Telco Customer Churn dataset.\n",
    "\n",
    "**Objectives:**\n",
    "- Load and understand the dataset structure\n",
    "- Identify missing values and data quality issues\n",
    "- Analyze the distribution of features\n",
    "- Explore relationships between features and churn\n",
    "- Generate visualizations for business insights"
   ]
  },
  {
   "cell_type": "code",
   "execution_count": null,
   "id": "dcf10463",
   "metadata": {},
   "outputs": [],
   "source": [
    "# Import required libraries\n",
    "import pandas as pd\n",
    "import numpy as np\n",
    "import matplotlib.pyplot as plt\n",
    "import seaborn as sns\n",
    "import warnings\n",
    "\n",
    "warnings.filterwarnings('ignore')\n",
    "\n",
    "# Set visualization style\n",
    "sns.set_style('whitegrid')\n",
    "plt.rcParams['figure.figsize'] = (12, 6)\n",
    "plt.rcParams['font.size'] = 10\n",
    "\n",
    "print(\"✅ Libraries imported successfully!\")"
   ]
  },
  {
   "cell_type": "markdown",
   "id": "936e3ebf",
   "metadata": {},
   "source": [
    "## 1. Load Dataset"
   ]
  },
  {
   "cell_type": "code",
   "execution_count": null,
   "id": "feaa7f80",
   "metadata": {},
   "outputs": [],
   "source": [
    "# Load the dataset\n",
    "df = pd.read_csv('../data/raw/telco_churn.csv')\n",
    "\n",
    "print(f\"Dataset Shape: {df.shape}\")\n",
    "print(f\"\\nFirst few rows:\")\n",
    "df.head()"
   ]
  },
  {
   "cell_type": "markdown",
   "id": "b112024b",
   "metadata": {},
   "source": [
    "## 2. Dataset Overview"
   ]
  },
  {
   "cell_type": "code",
   "execution_count": null,
   "id": "a1ca3e51",
   "metadata": {},
   "outputs": [],
   "source": [
    "# Dataset info\n",
    "print(\"=\"*50)\n",
    "print(\"DATASET INFORMATION\")\n",
    "print(\"=\"*50)\n",
    "print(f\"\\nTotal Rows: {df.shape[0]}\")\n",
    "print(f\"Total Columns: {df.shape[1]}\")\n",
    "print(f\"\\nColumn Names and Types:\")\n",
    "print(df.dtypes)"
   ]
  },
  {
   "cell_type": "code",
   "execution_count": null,
   "id": "1c66e1ed",
   "metadata": {},
   "outputs": [],
   "source": [
    "# Check for missing values\n",
    "print(\"\\n\" + \"=\"*50)\n",
    "print(\"MISSING VALUES\")\n",
    "print(\"=\"*50)\n",
    "missing = df.isnull().sum()\n",
    "missing_pct = (missing / len(df)) * 100\n",
    "missing_df = pd.DataFrame({\n",
    "    'Missing Count': missing,\n",
    "    'Percentage': missing_pct\n",
    "})\n",
    "print(missing_df[missing_df['Missing Count'] > 0])\n",
    "\n",
    "if missing_df['Missing Count'].sum() == 0:\n",
    "    print(\"\\n✅ No missing values found!\")"
   ]
  },
  {
   "cell_type": "code",
   "execution_count": null,
   "id": "065f2fa2",
   "metadata": {},
   "outputs": [],
   "source": [
    "# Check for duplicates\n",
    "duplicates = df.duplicated().sum()\n",
    "print(f\"\\nDuplicate Rows: {duplicates}\")\n",
    "\n",
    "if duplicates > 0:\n",
    "    print(\"⚠️ Duplicates found!\")\n",
    "else:\n",
    "    print(\"✅ No duplicates found!\")"
   ]
  },
  {
   "cell_type": "code",
   "execution_count": null,
   "id": "c8267cd5",
   "metadata": {},
   "outputs": [],
   "source": [
    "# Statistical summary\n",
    "print(\"\\n\" + \"=\"*50)\n",
    "print(\"STATISTICAL SUMMARY\")\n",
    "print(\"=\"*50)\n",
    "df.describe()"
   ]
  },
  {
   "cell_type": "markdown",
   "id": "6109c2b9",
   "metadata": {},
   "source": [
    "## 3. Target Variable Analysis"
   ]
  },
  {
   "cell_type": "code",
   "execution_count": null,
   "id": "1341c295",
   "metadata": {},
   "outputs": [],
   "source": [
    "# Churn distribution\n",
    "print(\"=\"*50)\n",
    "print(\"CHURN DISTRIBUTION\")\n",
    "print(\"=\"*50)\n",
    "churn_counts = df['Churn'].value_counts()\n",
    "churn_pct = df['Churn'].value_counts(normalize=True) * 100\n",
    "\n",
    "print(\"\\nChurn Counts:\")\n",
    "print(churn_counts)\n",
    "print(\"\\nChurn Percentage:\")\n",
    "print(churn_pct)\n",
    "\n",
    "# Visualize\n",
    "fig, axes = plt.subplots(1, 2, figsize=(14, 5))\n",
    "\n",
    "# Count plot\n",
    "axes[0].pie(churn_counts.values, labels=churn_counts.index, autopct='%1.1f%%',\n",
    "           colors=['#2ca02c', '#d62728'], startangle=90)\n",
    "axes[0].set_title('Churn Distribution', fontsize=14, fontweight='bold')\n",
    "\n",
    "# Bar plot\n",
    "sns.barplot(x=churn_counts.index, y=churn_counts.values, ax=axes[1],\n",
    "           palette=['#2ca02c', '#d62728'])\n",
    "axes[1].set_xlabel('Churn', fontsize=12)\n",
    "axes[1].set_ylabel('Count', fontsize=12)\n",
    "axes[1].set_title('Churn Count', fontsize=14, fontweight='bold')\n",
    "\n",
    "plt.tight_layout()\n",
    "plt.show()\n",
    "\n",
    "print(f\"\\n📊 Churn Rate: {churn_pct['Yes']:.2f}%\")"
   ]
  },
  {
   "cell_type": "markdown",
   "id": "00df7ade",
   "metadata": {},
   "source": [
    "## 4. Numerical Features Analysis"
   ]
  },
  {
   "cell_type": "code",
   "execution_count": null,
   "id": "48b2f787",
   "metadata": {},
   "outputs": [],
   "source": [
    "# Identify numerical features\n",
    "numerical_features = df.select_dtypes(include=['int64', 'float64']).columns.tolist()\n",
    "print(f\"Numerical Features ({len(numerical_features)}):\")\n",
    "print(numerical_features)"
   ]
  },
  {
   "cell_type": "code",
   "execution_count": null,
   "id": "3ebb27ef",
   "metadata": {},
   "outputs": [],
   "source": [
    "# Distribution of numerical features\n",
    "fig, axes = plt.subplots(1, 3, figsize=(18, 5))\n",
    "\n",
    "for idx, feature in enumerate(['tenure', 'MonthlyCharges', 'TotalCharges']):\n",
    "    if feature in df.columns:\n",
    "        # Handle TotalCharges (may have spaces)\n",
    "        data = pd.to_numeric(df[feature], errors='coerce').dropna()\n",
    "        \n",
    "        axes[idx].hist(data, bins=30, color='skyblue', edgecolor='black', alpha=0.7)\n",
    "        axes[idx].set_xlabel(feature, fontsize=12)\n",
    "        axes[idx].set_ylabel('Frequency', fontsize=12)\n",
    "        axes[idx].set_title(f'Distribution of {feature}', fontsize=13, fontweight='bold')\n",
    "        axes[idx].axvline(data.mean(), color='red', linestyle='--', linewidth=2, label=f'Mean: {data.mean():.2f}')\n",
    "        axes[idx].legend()\n",
    "\n",
    "plt.tight_layout()\n",
    "plt.show()"
   ]
  },
  {
   "cell_type": "code",
   "execution_count": null,
   "id": "3761cfde",
   "metadata": {},
   "outputs": [],
   "source": [
    "# Numerical features by churn\n",
    "fig, axes = plt.subplots(1, 3, figsize=(18, 5))\n",
    "\n",
    "for idx, feature in enumerate(['tenure', 'MonthlyCharges', 'TotalCharges']):\n",
    "    if feature in df.columns:\n",
    "        # Handle TotalCharges\n",
    "        data = df[[feature, 'Churn']].copy()\n",
    "        data[feature] = pd.to_numeric(data[feature], errors='coerce')\n",
    "        data = data.dropna()\n",
    "        \n",
    "        sns.boxplot(x='Churn', y=feature, data=data, ax=axes[idx],\n",
    "                   palette=['#2ca02c', '#d62728'])\n",
    "        axes[idx].set_title(f'{feature} by Churn', fontsize=13, fontweight='bold')\n",
    "\n",
    "plt.tight_layout()\n",
    "plt.show()"
   ]
  },
  {
   "cell_type": "markdown",
   "id": "b2a1c778",
   "metadata": {},
   "source": [
    "## 5. Categorical Features Analysis"
   ]
  },
  {
   "cell_type": "code",
   "execution_count": null,
   "id": "b594ea0f",
   "metadata": {},
   "outputs": [],
   "source": [
    "# Identify categorical features\n",
    "categorical_features = df.select_dtypes(include=['object']).columns.tolist()\n",
    "if 'Churn' in categorical_features:\n",
    "    categorical_features.remove('Churn')\n",
    "\n",
    "print(f\"Categorical Features ({len(categorical_features)}):\")\n",
    "print(categorical_features)"
   ]
  },
  {
   "cell_type": "code",
   "execution_count": null,
   "id": "3bf5ca24",
   "metadata": {},
   "outputs": [],
   "source": [
    "# Churn rate by Contract type\n",
    "contract_churn = df.groupby('Contract')['Churn'].apply(lambda x: (x == 'Yes').sum() / len(x) * 100).sort_values(ascending=False)\n",
    "\n",
    "fig, axes = plt.subplots(1, 2, figsize=(16, 5))\n",
    "\n",
    "# Churn rate\n",
    "axes[0].bar(contract_churn.index, contract_churn.values, color=['#d62728', '#ff7f0e', '#2ca02c'])\n",
    "axes[0].set_xlabel('Contract Type', fontsize=12)\n",
    "axes[0].set_ylabel('Churn Rate (%)', fontsize=12)\n",
    "axes[0].set_title('Churn Rate by Contract Type', fontsize=14, fontweight='bold')\n",
    "axes[0].grid(axis='y', alpha=0.3)\n",
    "\n",
    "# Count\n",
    "contract_counts = df.groupby(['Contract', 'Churn']).size().unstack()\n",
    "contract_counts.plot(kind='bar', ax=axes[1], color=['#2ca02c', '#d62728'], rot=0)\n",
    "axes[1].set_xlabel('Contract Type', fontsize=12)\n",
    "axes[1].set_ylabel('Count', fontsize=12)\n",
    "axes[1].set_title('Customer Count by Contract and Churn', fontsize=14, fontweight='bold')\n",
    "axes[1].legend(title='Churn')\n",
    "\n",
    "plt.tight_layout()\n",
    "plt.show()\n",
    "\n",
    "print(\"\\n📊 Churn Rate by Contract:\")\n",
    "print(contract_churn)"
   ]
  },
  {
   "cell_type": "code",
   "execution_count": null,
   "id": "69dfbbe7",
   "metadata": {},
   "outputs": [],
   "source": [
    "# Churn rate by Internet Service\n",
    "internet_churn = df.groupby('InternetService')['Churn'].apply(lambda x: (x == 'Yes').sum() / len(x) * 100).sort_values(ascending=False)\n",
    "\n",
    "fig, axes = plt.subplots(1, 2, figsize=(16, 5))\n",
    "\n",
    "# Churn rate\n",
    "axes[0].bar(internet_churn.index, internet_churn.values, color=['#d62728', '#ff7f0e', '#2ca02c'])\n",
    "axes[0].set_xlabel('Internet Service', fontsize=12)\n",
    "axes[0].set_ylabel('Churn Rate (%)', fontsize=12)\n",
    "axes[0].set_title('Churn Rate by Internet Service', fontsize=14, fontweight='bold')\n",
    "axes[0].grid(axis='y', alpha=0.3)\n",
    "\n",
    "# Count\n",
    "internet_counts = df.groupby(['InternetService', 'Churn']).size().unstack()\n",
    "internet_counts.plot(kind='bar', ax=axes[1], color=['#2ca02c', '#d62728'], rot=0)\n",
    "axes[1].set_xlabel('Internet Service', fontsize=12)\n",
    "axes[1].set_ylabel('Count', fontsize=12)\n",
    "axes[1].set_title('Customer Count by Internet Service and Churn', fontsize=14, fontweight='bold')\n",
    "axes[1].legend(title='Churn')\n",
    "\n",
    "plt.tight_layout()\n",
    "plt.show()\n",
    "\n",
    "print(\"\\n📊 Churn Rate by Internet Service:\")\n",
    "print(internet_churn)"
   ]
  },
  {
   "cell_type": "code",
   "execution_count": null,
   "id": "a25c6a7c",
   "metadata": {},
   "outputs": [],
   "source": [
    "# Churn rate by Payment Method\n",
    "payment_churn = df.groupby('PaymentMethod')['Churn'].apply(lambda x: (x == 'Yes').sum() / len(x) * 100).sort_values(ascending=False)\n",
    "\n",
    "fig, axes = plt.subplots(1, 2, figsize=(16, 5))\n",
    "\n",
    "# Churn rate\n",
    "axes[0].barh(payment_churn.index, payment_churn.values, color=['#d62728', '#ff7f0e', '#ffbb78', '#2ca02c'])\n",
    "axes[0].set_xlabel('Churn Rate (%)', fontsize=12)\n",
    "axes[0].set_ylabel('Payment Method', fontsize=12)\n",
    "axes[0].set_title('Churn Rate by Payment Method', fontsize=14, fontweight='bold')\n",
    "axes[0].grid(axis='x', alpha=0.3)\n",
    "\n",
    "# Count\n",
    "payment_counts = df.groupby(['PaymentMethod', 'Churn']).size().unstack()\n",
    "payment_counts.plot(kind='barh', ax=axes[1], color=['#2ca02c', '#d62728'])\n",
    "axes[1].set_xlabel('Count', fontsize=12)\n",
    "axes[1].set_ylabel('Payment Method', fontsize=12)\n",
    "axes[1].set_title('Customer Count by Payment Method and Churn', fontsize=14, fontweight='bold')\n",
    "axes[1].legend(title='Churn')\n",
    "\n",
    "plt.tight_layout()\n",
    "plt.show()\n",
    "\n",
    "print(\"\\n📊 Churn Rate by Payment Method:\")\n",
    "print(payment_churn)"
   ]
  },
  {
   "cell_type": "markdown",
   "id": "4a04e139",
   "metadata": {},
   "source": [
    "## 6. Correlation Analysis"
   ]
  },
  {
   "cell_type": "code",
   "execution_count": null,
   "id": "65db3416",
   "metadata": {},
   "outputs": [],
   "source": [
    "# Create a copy and encode categorical variables for correlation\n",
    "df_corr = df.copy()\n",
    "\n",
    "# Encode binary variables\n",
    "binary_cols = ['gender', 'Partner', 'Dependents', 'PhoneService', 'PaperlessBilling', 'Churn']\n",
    "for col in binary_cols:\n",
    "    if col in df_corr.columns:\n",
    "        df_corr[col] = df_corr[col].map({'Yes': 1, 'No': 0, 'Male': 1, 'Female': 0})\n",
    "\n",
    "# Handle TotalCharges\n",
    "if 'TotalCharges' in df_corr.columns:\n",
    "    df_corr['TotalCharges'] = pd.to_numeric(df_corr['TotalCharges'], errors='coerce')\n",
    "\n",
    "# Select numerical columns\n",
    "numeric_cols = df_corr.select_dtypes(include=[np.number]).columns.tolist()\n",
    "correlation_matrix = df_corr[numeric_cols].corr()\n",
    "\n",
    "# Plot correlation heatmap\n",
    "plt.figure(figsize=(12, 10))\n",
    "sns.heatmap(correlation_matrix, annot=True, fmt='.2f', cmap='coolwarm', \n",
    "           center=0, square=True, linewidths=1, cbar_kws={\"shrink\": 0.8})\n",
    "plt.title('Feature Correlation Matrix', fontsize=16, fontweight='bold', pad=20)\n",
    "plt.tight_layout()\n",
    "plt.show()"
   ]
  },
  {
   "cell_type": "code",
   "execution_count": null,
   "id": "24b269b1",
   "metadata": {},
   "outputs": [],
   "source": [
    "# Top correlations with Churn\n",
    "if 'Churn' in correlation_matrix.columns:\n",
    "    churn_corr = correlation_matrix['Churn'].sort_values(ascending=False)\n",
    "    print(\"=\"*50)\n",
    "    print(\"CORRELATION WITH CHURN\")\n",
    "    print(\"=\"*50)\n",
    "    print(churn_corr[churn_corr.index != 'Churn'])\n",
    "    \n",
    "    # Visualize\n",
    "    top_features = churn_corr[churn_corr.index != 'Churn'].head(10)\n",
    "    \n",
    "    plt.figure(figsize=(10, 6))\n",
    "    colors = ['#d62728' if x > 0 else '#2ca02c' for x in top_features.values]\n",
    "    plt.barh(top_features.index, top_features.values, color=colors)\n",
    "    plt.xlabel('Correlation with Churn', fontsize=12)\n",
    "    plt.title('Top 10 Features Correlated with Churn', fontsize=14, fontweight='bold')\n",
    "    plt.axvline(x=0, color='black', linestyle='--', linewidth=0.8)\n",
    "    plt.grid(axis='x', alpha=0.3)\n",
    "    plt.tight_layout()\n",
    "    plt.show()"
   ]
  },
  {
   "cell_type": "markdown",
   "id": "d6200048",
   "metadata": {},
   "source": [
    "## 7. Key Insights Summary\n",
    "\n",
    "Based on the exploratory data analysis, we can derive the following insights:\n",
    "\n",
    "### 📊 Churn Characteristics:\n",
    "1. **Contract Type**: Month-to-month contracts have significantly higher churn rates\n",
    "2. **Internet Service**: Fiber optic customers show higher churn tendency\n",
    "3. **Payment Method**: Electronic check users have elevated churn rates\n",
    "4. **Tenure**: Newer customers (lower tenure) are more likely to churn\n",
    "5. **Charges**: Higher monthly charges correlate with increased churn\n",
    "\n",
    "### 💡 Business Recommendations:\n",
    "- Focus retention efforts on month-to-month contract customers\n",
    "- Investigate fiber optic service quality issues\n",
    "- Encourage automatic payment methods\n",
    "- Implement early engagement programs for new customers\n",
    "- Review pricing strategies for high-charge customers\n",
    "\n",
    "### 🎯 Next Steps:\n",
    "- Feature engineering to create more predictive features\n",
    "- Build and evaluate machine learning models\n",
    "- Implement churn prediction system"
   ]
  },
  {
   "cell_type": "code",
   "execution_count": null,
   "id": "273dc3b8",
   "metadata": {},
   "outputs": [],
   "source": [
    "print(\"✅ Exploratory Data Analysis Complete!\")\n",
    "print(\"\\nKey Findings:\")\n",
    "print(f\"- Total Customers: {len(df):,}\")\n",
    "print(f\"- Churn Rate: {(df['Churn'] == 'Yes').mean()*100:.2f}%\")\n",
    "print(f\"- Features Analyzed: {len(df.columns)}\")\n",
    "print(\"\\n📌 Proceed to: 02_Preprocessing_and_Features.ipynb\")"
   ]
  }
 ],
 "metadata": {
  "language_info": {
   "name": "python"
  }
 },
 "nbformat": 4,
 "nbformat_minor": 5
}
